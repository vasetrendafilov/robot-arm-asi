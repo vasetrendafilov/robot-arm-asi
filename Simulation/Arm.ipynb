{
 "cells": [
  {
   "cell_type": "code",
   "execution_count": 1,
   "id": "804660bd",
   "metadata": {},
   "outputs": [],
   "source": [
    "import sympy as sp\n",
    "import script as rt\n",
    "import numpy as np"
   ]
  },
  {
   "cell_type": "code",
   "execution_count": 2,
   "id": "e23008f9",
   "metadata": {},
   "outputs": [
    {
     "data": {
      "application/vnd.jupyter.widget-view+json": {
       "model_id": "9c9d84ec291e441cbd200fb21267b3d7",
       "version_major": 2,
       "version_minor": 0
      },
      "text/plain": [
       "VBox(children=(HBox(children=(ToggleButton(value=True, description='Исклучи цртање'), Button(description='Пром…"
      ]
     },
     "metadata": {},
     "output_type": "display_data"
    }
   ],
   "source": [
    "theta1, theta2, theta3, theta4, theta5, theta6  = sp.symbols('theta1, theta2, theta3, theta4, theta5, theta6')\n",
    "robot = rt.SerialLinkRobot()\n",
    "robot.add_revolute_joint(theta1,  0.41,   0.2,    sp.pi/2)\n",
    "robot.add_revolute_joint(theta2, -0.19,   0.59,   0)\n",
    "robot.add_revolute_joint(theta3,  0.19,   0,      sp.pi/2)\n",
    "robot.add_dead_joint    (sp.pi/2, 0,      0,      sp.pi/2)\n",
    "robot.add_revolute_joint(theta4,  0.52,   0,      sp.pi/2)\n",
    "robot.add_revolute_joint(theta5,  0,      0,      sp.pi/2)\n",
    "robot.add_dead_joint    (sp.pi/2, 0,      0,      sp.pi/2)\n",
    "robot.add_revolute_joint(theta6,  0,      0,      0)\n",
    "robot.add_ofsets((0.1,0,0.2))\n",
    "robot.interact(1000,550)"
   ]
  },
  {
   "cell_type": "code",
   "execution_count": 7,
   "id": "8d91c82c",
   "metadata": {},
   "outputs": [],
   "source": [
    "robot.move((0.5,0.6,0.2,0,-60,180),(0.6,0.3,0.2,0,60,180),'circular',50,param=(0.2,0.2,1,1))"
   ]
  },
  {
   "cell_type": "code",
   "execution_count": 3,
   "id": "9ea3ab7d",
   "metadata": {},
   "outputs": [],
   "source": [
    "robot.write_text(\"FDF\",[0.5,0.6,0.2])"
   ]
  },
  {
   "cell_type": "code",
   "execution_count": 7,
   "id": "63b54dc2",
   "metadata": {},
   "outputs": [
    {
     "data": {
      "text/latex": [
       "$\\displaystyle \\left[\\begin{matrix}\\left(\\left(\\sin{\\left(\\theta_{1} \\right)} \\cos{\\left(\\theta_{4} \\right)} + \\sin{\\left(\\theta_{4} \\right)} \\sin{\\left(\\theta_{2} + \\theta_{3} \\right)} \\cos{\\left(\\theta_{1} \\right)}\\right) \\sin{\\left(\\theta_{5} \\right)} - \\cos{\\left(\\theta_{1} \\right)} \\cos{\\left(\\theta_{5} \\right)} \\cos{\\left(\\theta_{2} + \\theta_{3} \\right)}\\right) \\sin{\\left(\\theta_{6} \\right)} - \\left(- \\sin{\\left(\\theta_{1} \\right)} \\sin{\\left(\\theta_{4} \\right)} + \\sin{\\left(\\theta_{2} + \\theta_{3} \\right)} \\cos{\\left(\\theta_{1} \\right)} \\cos{\\left(\\theta_{4} \\right)}\\right) \\cos{\\left(\\theta_{6} \\right)} & \\left(\\left(\\sin{\\left(\\theta_{1} \\right)} \\cos{\\left(\\theta_{4} \\right)} + \\sin{\\left(\\theta_{4} \\right)} \\sin{\\left(\\theta_{2} + \\theta_{3} \\right)} \\cos{\\left(\\theta_{1} \\right)}\\right) \\sin{\\left(\\theta_{5} \\right)} - \\cos{\\left(\\theta_{1} \\right)} \\cos{\\left(\\theta_{5} \\right)} \\cos{\\left(\\theta_{2} + \\theta_{3} \\right)}\\right) \\cos{\\left(\\theta_{6} \\right)} + \\left(- \\sin{\\left(\\theta_{1} \\right)} \\sin{\\left(\\theta_{4} \\right)} + \\sin{\\left(\\theta_{2} + \\theta_{3} \\right)} \\cos{\\left(\\theta_{1} \\right)} \\cos{\\left(\\theta_{4} \\right)}\\right) \\sin{\\left(\\theta_{6} \\right)} & \\left(\\sin{\\left(\\theta_{1} \\right)} \\cos{\\left(\\theta_{4} \\right)} + \\sin{\\left(\\theta_{4} \\right)} \\sin{\\left(\\theta_{2} + \\theta_{3} \\right)} \\cos{\\left(\\theta_{1} \\right)}\\right) \\cos{\\left(\\theta_{5} \\right)} + \\sin{\\left(\\theta_{5} \\right)} \\cos{\\left(\\theta_{1} \\right)} \\cos{\\left(\\theta_{2} + \\theta_{3} \\right)} & 0.2 \\sin{\\left(\\theta_{1} \\right)} \\cos{\\left(\\theta_{4} \\right)} \\cos{\\left(\\theta_{5} \\right)} + 0.2 \\sin{\\left(\\theta_{4} \\right)} \\sin{\\left(\\theta_{2} + \\theta_{3} \\right)} \\cos{\\left(\\theta_{1} \\right)} \\cos{\\left(\\theta_{5} \\right)} + 0.2 \\sin{\\left(\\theta_{5} \\right)} \\cos{\\left(\\theta_{1} \\right)} \\cos{\\left(\\theta_{2} + \\theta_{3} \\right)} + 0.59 \\cos{\\left(\\theta_{1} \\right)} \\cos{\\left(\\theta_{2} \\right)} + 0.52 \\cos{\\left(\\theta_{1} \\right)} \\cos{\\left(\\theta_{2} + \\theta_{3} \\right)} + 0.2 \\cos{\\left(\\theta_{1} \\right)}\\\\\\left(\\left(\\sin{\\left(\\theta_{1} \\right)} \\sin{\\left(\\theta_{4} \\right)} \\sin{\\left(\\theta_{2} + \\theta_{3} \\right)} - \\cos{\\left(\\theta_{1} \\right)} \\cos{\\left(\\theta_{4} \\right)}\\right) \\sin{\\left(\\theta_{5} \\right)} - \\sin{\\left(\\theta_{1} \\right)} \\cos{\\left(\\theta_{5} \\right)} \\cos{\\left(\\theta_{2} + \\theta_{3} \\right)}\\right) \\sin{\\left(\\theta_{6} \\right)} - \\left(\\sin{\\left(\\theta_{1} \\right)} \\sin{\\left(\\theta_{2} + \\theta_{3} \\right)} \\cos{\\left(\\theta_{4} \\right)} + \\sin{\\left(\\theta_{4} \\right)} \\cos{\\left(\\theta_{1} \\right)}\\right) \\cos{\\left(\\theta_{6} \\right)} & \\left(\\left(\\sin{\\left(\\theta_{1} \\right)} \\sin{\\left(\\theta_{4} \\right)} \\sin{\\left(\\theta_{2} + \\theta_{3} \\right)} - \\cos{\\left(\\theta_{1} \\right)} \\cos{\\left(\\theta_{4} \\right)}\\right) \\sin{\\left(\\theta_{5} \\right)} - \\sin{\\left(\\theta_{1} \\right)} \\cos{\\left(\\theta_{5} \\right)} \\cos{\\left(\\theta_{2} + \\theta_{3} \\right)}\\right) \\cos{\\left(\\theta_{6} \\right)} + \\left(\\sin{\\left(\\theta_{1} \\right)} \\sin{\\left(\\theta_{2} + \\theta_{3} \\right)} \\cos{\\left(\\theta_{4} \\right)} + \\sin{\\left(\\theta_{4} \\right)} \\cos{\\left(\\theta_{1} \\right)}\\right) \\sin{\\left(\\theta_{6} \\right)} & \\left(\\sin{\\left(\\theta_{1} \\right)} \\sin{\\left(\\theta_{4} \\right)} \\sin{\\left(\\theta_{2} + \\theta_{3} \\right)} - \\cos{\\left(\\theta_{1} \\right)} \\cos{\\left(\\theta_{4} \\right)}\\right) \\cos{\\left(\\theta_{5} \\right)} + \\sin{\\left(\\theta_{1} \\right)} \\sin{\\left(\\theta_{5} \\right)} \\cos{\\left(\\theta_{2} + \\theta_{3} \\right)} & 0.2 \\sin{\\left(\\theta_{1} \\right)} \\sin{\\left(\\theta_{4} \\right)} \\sin{\\left(\\theta_{2} + \\theta_{3} \\right)} \\cos{\\left(\\theta_{5} \\right)} + 0.2 \\sin{\\left(\\theta_{1} \\right)} \\sin{\\left(\\theta_{5} \\right)} \\cos{\\left(\\theta_{2} + \\theta_{3} \\right)} + 0.59 \\sin{\\left(\\theta_{1} \\right)} \\cos{\\left(\\theta_{2} \\right)} + 0.52 \\sin{\\left(\\theta_{1} \\right)} \\cos{\\left(\\theta_{2} + \\theta_{3} \\right)} + 0.2 \\sin{\\left(\\theta_{1} \\right)} - 0.2 \\cos{\\left(\\theta_{1} \\right)} \\cos{\\left(\\theta_{4} \\right)} \\cos{\\left(\\theta_{5} \\right)}\\\\- \\left(\\sin{\\left(\\theta_{4} \\right)} \\sin{\\left(\\theta_{5} \\right)} \\cos{\\left(\\theta_{2} + \\theta_{3} \\right)} + \\sin{\\left(\\theta_{2} + \\theta_{3} \\right)} \\cos{\\left(\\theta_{5} \\right)}\\right) \\sin{\\left(\\theta_{6} \\right)} + \\cos{\\left(\\theta_{4} \\right)} \\cos{\\left(\\theta_{6} \\right)} \\cos{\\left(\\theta_{2} + \\theta_{3} \\right)} & - \\left(\\sin{\\left(\\theta_{4} \\right)} \\sin{\\left(\\theta_{5} \\right)} \\cos{\\left(\\theta_{2} + \\theta_{3} \\right)} + \\sin{\\left(\\theta_{2} + \\theta_{3} \\right)} \\cos{\\left(\\theta_{5} \\right)}\\right) \\cos{\\left(\\theta_{6} \\right)} - \\sin{\\left(\\theta_{6} \\right)} \\cos{\\left(\\theta_{4} \\right)} \\cos{\\left(\\theta_{2} + \\theta_{3} \\right)} & - \\sin{\\left(\\theta_{4} \\right)} \\cos{\\left(\\theta_{5} \\right)} \\cos{\\left(\\theta_{2} + \\theta_{3} \\right)} + \\sin{\\left(\\theta_{5} \\right)} \\sin{\\left(\\theta_{2} + \\theta_{3} \\right)} & 0.59 \\sin{\\left(\\theta_{2} \\right)} - 0.2 \\sin{\\left(\\theta_{4} \\right)} \\cos{\\left(\\theta_{5} \\right)} \\cos{\\left(\\theta_{2} + \\theta_{3} \\right)} + 0.2 \\sin{\\left(\\theta_{5} \\right)} \\sin{\\left(\\theta_{2} + \\theta_{3} \\right)} + 0.52 \\sin{\\left(\\theta_{2} + \\theta_{3} \\right)} + 0.41\\\\0 & 0 & 0 & 1\\end{matrix}\\right]$"
      ],
      "text/plain": [
       "Matrix([\n",
       "[((sin(theta1)*cos(theta4) + sin(theta4)*sin(theta2 + theta3)*cos(theta1))*sin(theta5) - cos(theta1)*cos(theta5)*cos(theta2 + theta3))*sin(theta6) - (-sin(theta1)*sin(theta4) + sin(theta2 + theta3)*cos(theta1)*cos(theta4))*cos(theta6), ((sin(theta1)*cos(theta4) + sin(theta4)*sin(theta2 + theta3)*cos(theta1))*sin(theta5) - cos(theta1)*cos(theta5)*cos(theta2 + theta3))*cos(theta6) + (-sin(theta1)*sin(theta4) + sin(theta2 + theta3)*cos(theta1)*cos(theta4))*sin(theta6), (sin(theta1)*cos(theta4) + sin(theta4)*sin(theta2 + theta3)*cos(theta1))*cos(theta5) + sin(theta5)*cos(theta1)*cos(theta2 + theta3), 0.2*sin(theta1)*cos(theta4)*cos(theta5) + 0.2*sin(theta4)*sin(theta2 + theta3)*cos(theta1)*cos(theta5) + 0.2*sin(theta5)*cos(theta1)*cos(theta2 + theta3) + 0.59*cos(theta1)*cos(theta2) + 0.52*cos(theta1)*cos(theta2 + theta3) + 0.2*cos(theta1)],\n",
       "[ ((sin(theta1)*sin(theta4)*sin(theta2 + theta3) - cos(theta1)*cos(theta4))*sin(theta5) - sin(theta1)*cos(theta5)*cos(theta2 + theta3))*sin(theta6) - (sin(theta1)*sin(theta2 + theta3)*cos(theta4) + sin(theta4)*cos(theta1))*cos(theta6),  ((sin(theta1)*sin(theta4)*sin(theta2 + theta3) - cos(theta1)*cos(theta4))*sin(theta5) - sin(theta1)*cos(theta5)*cos(theta2 + theta3))*cos(theta6) + (sin(theta1)*sin(theta2 + theta3)*cos(theta4) + sin(theta4)*cos(theta1))*sin(theta6), (sin(theta1)*sin(theta4)*sin(theta2 + theta3) - cos(theta1)*cos(theta4))*cos(theta5) + sin(theta1)*sin(theta5)*cos(theta2 + theta3), 0.2*sin(theta1)*sin(theta4)*sin(theta2 + theta3)*cos(theta5) + 0.2*sin(theta1)*sin(theta5)*cos(theta2 + theta3) + 0.59*sin(theta1)*cos(theta2) + 0.52*sin(theta1)*cos(theta2 + theta3) + 0.2*sin(theta1) - 0.2*cos(theta1)*cos(theta4)*cos(theta5)],\n",
       "[                                                                                            -(sin(theta4)*sin(theta5)*cos(theta2 + theta3) + sin(theta2 + theta3)*cos(theta5))*sin(theta6) + cos(theta4)*cos(theta6)*cos(theta2 + theta3),                                                                                             -(sin(theta4)*sin(theta5)*cos(theta2 + theta3) + sin(theta2 + theta3)*cos(theta5))*cos(theta6) - sin(theta6)*cos(theta4)*cos(theta2 + theta3),                                                    -sin(theta4)*cos(theta5)*cos(theta2 + theta3) + sin(theta5)*sin(theta2 + theta3),                                                                                                      0.59*sin(theta2) - 0.2*sin(theta4)*cos(theta5)*cos(theta2 + theta3) + 0.2*sin(theta5)*sin(theta2 + theta3) + 0.52*sin(theta2 + theta3) + 0.41],\n",
       "[                                                                                                                                                                                                                                        0,                                                                                                                                                                                                                                         0,                                                                                                                                   0,                                                                                                                                                                                                                                                  1]])"
      ]
     },
     "execution_count": 7,
     "metadata": {},
     "output_type": "execute_result"
    }
   ],
   "source": [
    "robot.get_dh_matrix()"
   ]
  },
  {
   "cell_type": "code",
   "execution_count": 5,
   "id": "36388d77",
   "metadata": {},
   "outputs": [
    {
     "data": {
      "text/latex": [
       "$\\displaystyle \\left[\\begin{matrix}\\left(\\left(\\sin{\\left(\\theta_{1} \\right)} \\cos{\\left(\\theta_{4} \\right)} + \\sin{\\left(\\theta_{4} \\right)} \\sin{\\left(\\theta_{2} + \\theta_{3} \\right)} \\cos{\\left(\\theta_{1} \\right)}\\right) \\sin{\\left(\\theta_{5} \\right)} - \\cos{\\left(\\theta_{1} \\right)} \\cos{\\left(\\theta_{5} \\right)} \\cos{\\left(\\theta_{2} + \\theta_{3} \\right)}\\right) \\sin{\\left(\\theta_{6} \\right)} - \\left(- \\sin{\\left(\\theta_{1} \\right)} \\sin{\\left(\\theta_{4} \\right)} + \\sin{\\left(\\theta_{2} + \\theta_{3} \\right)} \\cos{\\left(\\theta_{1} \\right)} \\cos{\\left(\\theta_{4} \\right)}\\right) \\cos{\\left(\\theta_{6} \\right)} & \\left(\\left(\\sin{\\left(\\theta_{1} \\right)} \\cos{\\left(\\theta_{4} \\right)} + \\sin{\\left(\\theta_{4} \\right)} \\sin{\\left(\\theta_{2} + \\theta_{3} \\right)} \\cos{\\left(\\theta_{1} \\right)}\\right) \\sin{\\left(\\theta_{5} \\right)} - \\cos{\\left(\\theta_{1} \\right)} \\cos{\\left(\\theta_{5} \\right)} \\cos{\\left(\\theta_{2} + \\theta_{3} \\right)}\\right) \\cos{\\left(\\theta_{6} \\right)} + \\left(- \\sin{\\left(\\theta_{1} \\right)} \\sin{\\left(\\theta_{4} \\right)} + \\sin{\\left(\\theta_{2} + \\theta_{3} \\right)} \\cos{\\left(\\theta_{1} \\right)} \\cos{\\left(\\theta_{4} \\right)}\\right) \\sin{\\left(\\theta_{6} \\right)} & \\left(\\sin{\\left(\\theta_{1} \\right)} \\cos{\\left(\\theta_{4} \\right)} + \\sin{\\left(\\theta_{4} \\right)} \\sin{\\left(\\theta_{2} + \\theta_{3} \\right)} \\cos{\\left(\\theta_{1} \\right)}\\right) \\cos{\\left(\\theta_{5} \\right)} + \\sin{\\left(\\theta_{5} \\right)} \\cos{\\left(\\theta_{1} \\right)} \\cos{\\left(\\theta_{2} + \\theta_{3} \\right)} & \\left(0.59 \\cos{\\left(\\theta_{2} \\right)} + 0.52 \\cos{\\left(\\theta_{2} + \\theta_{3} \\right)} + 0.2\\right) \\cos{\\left(\\theta_{1} \\right)}\\\\\\left(\\left(\\sin{\\left(\\theta_{1} \\right)} \\sin{\\left(\\theta_{4} \\right)} \\sin{\\left(\\theta_{2} + \\theta_{3} \\right)} - \\cos{\\left(\\theta_{1} \\right)} \\cos{\\left(\\theta_{4} \\right)}\\right) \\sin{\\left(\\theta_{5} \\right)} - \\sin{\\left(\\theta_{1} \\right)} \\cos{\\left(\\theta_{5} \\right)} \\cos{\\left(\\theta_{2} + \\theta_{3} \\right)}\\right) \\sin{\\left(\\theta_{6} \\right)} - \\left(\\sin{\\left(\\theta_{1} \\right)} \\sin{\\left(\\theta_{2} + \\theta_{3} \\right)} \\cos{\\left(\\theta_{4} \\right)} + \\sin{\\left(\\theta_{4} \\right)} \\cos{\\left(\\theta_{1} \\right)}\\right) \\cos{\\left(\\theta_{6} \\right)} & \\left(\\left(\\sin{\\left(\\theta_{1} \\right)} \\sin{\\left(\\theta_{4} \\right)} \\sin{\\left(\\theta_{2} + \\theta_{3} \\right)} - \\cos{\\left(\\theta_{1} \\right)} \\cos{\\left(\\theta_{4} \\right)}\\right) \\sin{\\left(\\theta_{5} \\right)} - \\sin{\\left(\\theta_{1} \\right)} \\cos{\\left(\\theta_{5} \\right)} \\cos{\\left(\\theta_{2} + \\theta_{3} \\right)}\\right) \\cos{\\left(\\theta_{6} \\right)} + \\left(\\sin{\\left(\\theta_{1} \\right)} \\sin{\\left(\\theta_{2} + \\theta_{3} \\right)} \\cos{\\left(\\theta_{4} \\right)} + \\sin{\\left(\\theta_{4} \\right)} \\cos{\\left(\\theta_{1} \\right)}\\right) \\sin{\\left(\\theta_{6} \\right)} & \\left(\\sin{\\left(\\theta_{1} \\right)} \\sin{\\left(\\theta_{4} \\right)} \\sin{\\left(\\theta_{2} + \\theta_{3} \\right)} - \\cos{\\left(\\theta_{1} \\right)} \\cos{\\left(\\theta_{4} \\right)}\\right) \\cos{\\left(\\theta_{5} \\right)} + \\sin{\\left(\\theta_{1} \\right)} \\sin{\\left(\\theta_{5} \\right)} \\cos{\\left(\\theta_{2} + \\theta_{3} \\right)} & \\left(0.59 \\cos{\\left(\\theta_{2} \\right)} + 0.52 \\cos{\\left(\\theta_{2} + \\theta_{3} \\right)} + 0.2\\right) \\sin{\\left(\\theta_{1} \\right)}\\\\- \\left(\\sin{\\left(\\theta_{4} \\right)} \\sin{\\left(\\theta_{5} \\right)} \\cos{\\left(\\theta_{2} + \\theta_{3} \\right)} + \\sin{\\left(\\theta_{2} + \\theta_{3} \\right)} \\cos{\\left(\\theta_{5} \\right)}\\right) \\sin{\\left(\\theta_{6} \\right)} + \\cos{\\left(\\theta_{4} \\right)} \\cos{\\left(\\theta_{6} \\right)} \\cos{\\left(\\theta_{2} + \\theta_{3} \\right)} & - \\left(\\sin{\\left(\\theta_{4} \\right)} \\sin{\\left(\\theta_{5} \\right)} \\cos{\\left(\\theta_{2} + \\theta_{3} \\right)} + \\sin{\\left(\\theta_{2} + \\theta_{3} \\right)} \\cos{\\left(\\theta_{5} \\right)}\\right) \\cos{\\left(\\theta_{6} \\right)} - \\sin{\\left(\\theta_{6} \\right)} \\cos{\\left(\\theta_{4} \\right)} \\cos{\\left(\\theta_{2} + \\theta_{3} \\right)} & - \\sin{\\left(\\theta_{4} \\right)} \\cos{\\left(\\theta_{5} \\right)} \\cos{\\left(\\theta_{2} + \\theta_{3} \\right)} + \\sin{\\left(\\theta_{5} \\right)} \\sin{\\left(\\theta_{2} + \\theta_{3} \\right)} & 0.59 \\sin{\\left(\\theta_{2} \\right)} + 0.52 \\sin{\\left(\\theta_{2} + \\theta_{3} \\right)} + 0.41\\\\0 & 0 & 0 & 1\\end{matrix}\\right]$"
      ],
      "text/plain": [
       "Matrix([\n",
       "[((sin(theta1)*cos(theta4) + sin(theta4)*sin(theta2 + theta3)*cos(theta1))*sin(theta5) - cos(theta1)*cos(theta5)*cos(theta2 + theta3))*sin(theta6) - (-sin(theta1)*sin(theta4) + sin(theta2 + theta3)*cos(theta1)*cos(theta4))*cos(theta6), ((sin(theta1)*cos(theta4) + sin(theta4)*sin(theta2 + theta3)*cos(theta1))*sin(theta5) - cos(theta1)*cos(theta5)*cos(theta2 + theta3))*cos(theta6) + (-sin(theta1)*sin(theta4) + sin(theta2 + theta3)*cos(theta1)*cos(theta4))*sin(theta6), (sin(theta1)*cos(theta4) + sin(theta4)*sin(theta2 + theta3)*cos(theta1))*cos(theta5) + sin(theta5)*cos(theta1)*cos(theta2 + theta3), (0.59*cos(theta2) + 0.52*cos(theta2 + theta3) + 0.2)*cos(theta1)],\n",
       "[ ((sin(theta1)*sin(theta4)*sin(theta2 + theta3) - cos(theta1)*cos(theta4))*sin(theta5) - sin(theta1)*cos(theta5)*cos(theta2 + theta3))*sin(theta6) - (sin(theta1)*sin(theta2 + theta3)*cos(theta4) + sin(theta4)*cos(theta1))*cos(theta6),  ((sin(theta1)*sin(theta4)*sin(theta2 + theta3) - cos(theta1)*cos(theta4))*sin(theta5) - sin(theta1)*cos(theta5)*cos(theta2 + theta3))*cos(theta6) + (sin(theta1)*sin(theta2 + theta3)*cos(theta4) + sin(theta4)*cos(theta1))*sin(theta6), (sin(theta1)*sin(theta4)*sin(theta2 + theta3) - cos(theta1)*cos(theta4))*cos(theta5) + sin(theta1)*sin(theta5)*cos(theta2 + theta3), (0.59*cos(theta2) + 0.52*cos(theta2 + theta3) + 0.2)*sin(theta1)],\n",
       "[                                                                                            -(sin(theta4)*sin(theta5)*cos(theta2 + theta3) + sin(theta2 + theta3)*cos(theta5))*sin(theta6) + cos(theta4)*cos(theta6)*cos(theta2 + theta3),                                                                                             -(sin(theta4)*sin(theta5)*cos(theta2 + theta3) + sin(theta2 + theta3)*cos(theta5))*cos(theta6) - sin(theta6)*cos(theta4)*cos(theta2 + theta3),                                                    -sin(theta4)*cos(theta5)*cos(theta2 + theta3) + sin(theta5)*sin(theta2 + theta3),              0.59*sin(theta2) + 0.52*sin(theta2 + theta3) + 0.41],\n",
       "[                                                                                                                                                                                                                                        0,                                                                                                                                                                                                                                         0,                                                                                                                                   0,                                                                1]])"
      ]
     },
     "execution_count": 5,
     "metadata": {},
     "output_type": "execute_result"
    }
   ],
   "source": [
    "T = robot.get_dh_matrix()\n",
    "T"
   ]
  }
 ],
 "metadata": {
  "interpreter": {
   "hash": "e6eb27b760f44e7f26b6f02d257b3c136121a9e07097e97ba109aa911cb45092"
  },
  "kernelspec": {
   "display_name": "Python 3.10.3 ('r2')",
   "language": "python",
   "name": "python3"
  },
  "language_info": {
   "codemirror_mode": {
    "name": "ipython",
    "version": 3
   },
   "file_extension": ".py",
   "mimetype": "text/x-python",
   "name": "python",
   "nbconvert_exporter": "python",
   "pygments_lexer": "ipython3",
   "version": "3.10.3"
  }
 },
 "nbformat": 4,
 "nbformat_minor": 5
}
