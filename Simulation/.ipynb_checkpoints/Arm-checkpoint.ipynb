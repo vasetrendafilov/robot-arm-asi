{
 "cells": [
  {
   "cell_type": "code",
   "execution_count": 1,
   "id": "initial-prairie",
   "metadata": {},
   "outputs": [],
   "source": [
    "import sympy as sp\r\n",
    "import script as rt\r\n",
    "import numpy as np"
   ]
  },
  {
   "cell_type": "code",
   "execution_count": 2,
   "id": "infinite-superior",
   "metadata": {
    "tags": []
   },
   "outputs": [
    {
     "data": {
      "application/vnd.jupyter.widget-view+json": {
       "model_id": "b985d2f29f8442c3880c7819b0a1fc7d",
       "version_major": 2,
       "version_minor": 0
      },
      "text/plain": [
       "VBox(children=(HBox(children=(ToggleButton(value=True, description='Исклучи цртање'), Button(description='Пром…"
      ]
     },
     "metadata": {},
     "output_type": "display_data"
    }
   ],
   "source": [
    "theta1, theta2, theta3, theta4, theta5, theta6  = sp.symbols('theta1, theta2, theta3, theta4, theta5, theta6 ')\r\n",
    "robot = rt.SerialLinkRobot()\r\n",
    "robot.add_revolute_joint(theta1,  0.41,   0.2,    sp.pi/2)\r\n",
    "robot.add_revolute_joint(theta2, -0.19,   0.59,   0)\r\n",
    "robot.add_revolute_joint(theta3,  0.19,   0,      sp.pi/2)\r\n",
    "robot.add_dead_joint    (sp.pi/2, 0,      0,      sp.pi/2)\r\n",
    "robot.add_revolute_joint(theta4,  0.52,   0,      sp.pi/2)\r\n",
    "robot.add_revolute_joint(theta5,  0,      0,      sp.pi/2)\r\n",
    "robot.add_dead_joint    (sp.pi/2, 0,      0,      sp.pi/2)\r\n",
    "robot.add_revolute_joint(theta6,  0,      0,      0)\r\n",
    "robot.add_ofsets((0,0,0))\r\n",
    "robot.interact(1000,550)"
   ]
  },
  {
   "cell_type": "code",
   "execution_count": 3,
   "id": "impressed-paper",
   "metadata": {},
   "outputs": [
    {
     "data": {
      "text/plain": [
       "[(theta1, 0.5404195002705842),\n",
       " (theta2, 0.46964540463237564),\n",
       " (theta3, -1.0314612193976531),\n",
       " (temp19.461123342452204, pi/2),\n",
       " (theta4, 4.71238898038469),\n",
       " (theta5, -0.5618158147652774),\n",
       " (temp50.25956036332245, pi/2),\n",
       " (theta6, 4.171969480114106)]"
      ]
     },
     "execution_count": 3,
     "metadata": {},
     "output_type": "execute_result"
    }
   ],
   "source": [
    "robot.subs_joints"
   ]
  },
  {
   "cell_type": "code",
   "execution_count": 5,
   "id": "cathedral-jones",
   "metadata": {},
   "outputs": [
    {
     "data": {
      "text/plain": [
       "239.03624346792648"
      ]
     },
     "execution_count": 5,
     "metadata": {},
     "output_type": "execute_result"
    }
   ],
   "source": [
    "4.171969480114106*180/np.pi"
   ]
  },
  {
   "cell_type": "code",
   "execution_count": null,
   "id": "iraqi-slovak",
   "metadata": {},
   "outputs": [],
   "source": [
    "robot.move((1,0.6,0.4, 0,0,20),(0.6,0.7,0, 0,0,60))"
   ]
  },
  {
   "cell_type": "code",
   "execution_count": 3,
   "id": "monthly-jewel",
   "metadata": {},
   "outputs": [
    {
     "name": "stderr",
     "output_type": "stream",
     "text": [
      "C:\\Users\\vase_\\Downloads\\robot-arm-asi3\\Simulation\\script.py:329: RuntimeWarning:\n",
      "\n",
      "invalid value encountered in arcsin\n",
      "\n",
      "C:\\Users\\vase_\\Downloads\\robot-arm-asi3\\Simulation\\script.py:330: RuntimeWarning:\n",
      "\n",
      "invalid value encountered in arcsin\n",
      "\n",
      "C:\\Users\\vase_\\Downloads\\robot-arm-asi3\\Simulation\\script.py:331: RuntimeWarning:\n",
      "\n",
      "invalid value encountered in arcsin\n",
      "\n",
      "C:\\Users\\vase_\\Downloads\\robot-arm-asi3\\Simulation\\script.py:332: RuntimeWarning:\n",
      "\n",
      "invalid value encountered in arcsin\n",
      "\n",
      "C:\\Users\\vase_\\Downloads\\robot-arm-asi3\\Simulation\\script.py:333: RuntimeWarning:\n",
      "\n",
      "invalid value encountered in arcsin\n",
      "\n",
      "C:\\Users\\vase_\\Downloads\\robot-arm-asi3\\Simulation\\script.py:334: RuntimeWarning:\n",
      "\n",
      "invalid value encountered in arcsin\n",
      "\n",
      "C:\\Users\\vase_\\Downloads\\robot-arm-asi3\\Simulation\\script.py:335: RuntimeWarning:\n",
      "\n",
      "invalid value encountered in arcsin\n",
      "\n",
      "C:\\Users\\vase_\\Downloads\\robot-arm-asi3\\Simulation\\script.py:336: RuntimeWarning:\n",
      "\n",
      "invalid value encountered in arcsin\n",
      "\n"
     ]
    },
    {
     "name": "stdout",
     "output_type": "stream",
     "text": [
      "Theta6 не е во граници [-180.0,180.0]\n",
      "Theta6 не е во граници [-180.0,180.0]\n",
      "Theta6 не е во граници [-180.0,180.0]\n",
      "Theta6 не е во граници [-180.0,180.0]\n",
      "Theta6 не е во граници [-180.0,180.0]\n",
      "Theta6 не е во граници [-180.0,180.0]\n"
     ]
    }
   ],
   "source": [
    "robot.write_text(\"FEIT\",[3,3,0.2])"
   ]
  },
  {
   "cell_type": "code",
   "execution_count": 5,
   "id": "proper-liechtenstein",
   "metadata": {},
   "outputs": [
    {
     "data": {
      "text/latex": [
       "$\\displaystyle \\left[\\begin{matrix}\\left(\\left(\\sin{\\left(\\theta_{1} \\right)} \\cos{\\left(\\theta_{4} \\right)} + \\sin{\\left(\\theta_{4} \\right)} \\sin{\\left(\\theta_{2} + \\theta_{3} \\right)} \\cos{\\left(\\theta_{1} \\right)}\\right) \\sin{\\left(\\theta_{5} \\right)} - \\cos{\\left(\\theta_{1} \\right)} \\cos{\\left(\\theta_{5} \\right)} \\cos{\\left(\\theta_{2} + \\theta_{3} \\right)}\\right) \\sin{\\left(\\theta_{6} \\right)} - \\left(- \\sin{\\left(\\theta_{1} \\right)} \\sin{\\left(\\theta_{4} \\right)} + \\sin{\\left(\\theta_{2} + \\theta_{3} \\right)} \\cos{\\left(\\theta_{1} \\right)} \\cos{\\left(\\theta_{4} \\right)}\\right) \\cos{\\left(\\theta_{6} \\right)} & \\left(\\left(\\sin{\\left(\\theta_{1} \\right)} \\cos{\\left(\\theta_{4} \\right)} + \\sin{\\left(\\theta_{4} \\right)} \\sin{\\left(\\theta_{2} + \\theta_{3} \\right)} \\cos{\\left(\\theta_{1} \\right)}\\right) \\sin{\\left(\\theta_{5} \\right)} - \\cos{\\left(\\theta_{1} \\right)} \\cos{\\left(\\theta_{5} \\right)} \\cos{\\left(\\theta_{2} + \\theta_{3} \\right)}\\right) \\cos{\\left(\\theta_{6} \\right)} + \\left(- \\sin{\\left(\\theta_{1} \\right)} \\sin{\\left(\\theta_{4} \\right)} + \\sin{\\left(\\theta_{2} + \\theta_{3} \\right)} \\cos{\\left(\\theta_{1} \\right)} \\cos{\\left(\\theta_{4} \\right)}\\right) \\sin{\\left(\\theta_{6} \\right)} & \\left(\\sin{\\left(\\theta_{1} \\right)} \\cos{\\left(\\theta_{4} \\right)} + \\sin{\\left(\\theta_{4} \\right)} \\sin{\\left(\\theta_{2} + \\theta_{3} \\right)} \\cos{\\left(\\theta_{1} \\right)}\\right) \\cos{\\left(\\theta_{5} \\right)} + \\sin{\\left(\\theta_{5} \\right)} \\cos{\\left(\\theta_{1} \\right)} \\cos{\\left(\\theta_{2} + \\theta_{3} \\right)} & \\left(0.59 \\cos{\\left(\\theta_{2} \\right)} + 0.52 \\cos{\\left(\\theta_{2} + \\theta_{3} \\right)} + 0.2\\right) \\cos{\\left(\\theta_{1} \\right)}\\\\\\left(\\left(\\sin{\\left(\\theta_{1} \\right)} \\sin{\\left(\\theta_{4} \\right)} \\sin{\\left(\\theta_{2} + \\theta_{3} \\right)} - \\cos{\\left(\\theta_{1} \\right)} \\cos{\\left(\\theta_{4} \\right)}\\right) \\sin{\\left(\\theta_{5} \\right)} - \\sin{\\left(\\theta_{1} \\right)} \\cos{\\left(\\theta_{5} \\right)} \\cos{\\left(\\theta_{2} + \\theta_{3} \\right)}\\right) \\sin{\\left(\\theta_{6} \\right)} - \\left(\\sin{\\left(\\theta_{1} \\right)} \\sin{\\left(\\theta_{2} + \\theta_{3} \\right)} \\cos{\\left(\\theta_{4} \\right)} + \\sin{\\left(\\theta_{4} \\right)} \\cos{\\left(\\theta_{1} \\right)}\\right) \\cos{\\left(\\theta_{6} \\right)} & \\left(\\left(\\sin{\\left(\\theta_{1} \\right)} \\sin{\\left(\\theta_{4} \\right)} \\sin{\\left(\\theta_{2} + \\theta_{3} \\right)} - \\cos{\\left(\\theta_{1} \\right)} \\cos{\\left(\\theta_{4} \\right)}\\right) \\sin{\\left(\\theta_{5} \\right)} - \\sin{\\left(\\theta_{1} \\right)} \\cos{\\left(\\theta_{5} \\right)} \\cos{\\left(\\theta_{2} + \\theta_{3} \\right)}\\right) \\cos{\\left(\\theta_{6} \\right)} + \\left(\\sin{\\left(\\theta_{1} \\right)} \\sin{\\left(\\theta_{2} + \\theta_{3} \\right)} \\cos{\\left(\\theta_{4} \\right)} + \\sin{\\left(\\theta_{4} \\right)} \\cos{\\left(\\theta_{1} \\right)}\\right) \\sin{\\left(\\theta_{6} \\right)} & \\left(\\sin{\\left(\\theta_{1} \\right)} \\sin{\\left(\\theta_{4} \\right)} \\sin{\\left(\\theta_{2} + \\theta_{3} \\right)} - \\cos{\\left(\\theta_{1} \\right)} \\cos{\\left(\\theta_{4} \\right)}\\right) \\cos{\\left(\\theta_{5} \\right)} + \\sin{\\left(\\theta_{1} \\right)} \\sin{\\left(\\theta_{5} \\right)} \\cos{\\left(\\theta_{2} + \\theta_{3} \\right)} & \\left(0.59 \\cos{\\left(\\theta_{2} \\right)} + 0.52 \\cos{\\left(\\theta_{2} + \\theta_{3} \\right)} + 0.2\\right) \\sin{\\left(\\theta_{1} \\right)}\\\\- \\left(\\sin{\\left(\\theta_{4} \\right)} \\sin{\\left(\\theta_{5} \\right)} \\cos{\\left(\\theta_{2} + \\theta_{3} \\right)} + \\sin{\\left(\\theta_{2} + \\theta_{3} \\right)} \\cos{\\left(\\theta_{5} \\right)}\\right) \\sin{\\left(\\theta_{6} \\right)} + \\cos{\\left(\\theta_{4} \\right)} \\cos{\\left(\\theta_{6} \\right)} \\cos{\\left(\\theta_{2} + \\theta_{3} \\right)} & - \\left(\\sin{\\left(\\theta_{4} \\right)} \\sin{\\left(\\theta_{5} \\right)} \\cos{\\left(\\theta_{2} + \\theta_{3} \\right)} + \\sin{\\left(\\theta_{2} + \\theta_{3} \\right)} \\cos{\\left(\\theta_{5} \\right)}\\right) \\cos{\\left(\\theta_{6} \\right)} - \\sin{\\left(\\theta_{6} \\right)} \\cos{\\left(\\theta_{4} \\right)} \\cos{\\left(\\theta_{2} + \\theta_{3} \\right)} & - \\sin{\\left(\\theta_{4} \\right)} \\cos{\\left(\\theta_{5} \\right)} \\cos{\\left(\\theta_{2} + \\theta_{3} \\right)} + \\sin{\\left(\\theta_{5} \\right)} \\sin{\\left(\\theta_{2} + \\theta_{3} \\right)} & 0.59 \\sin{\\left(\\theta_{2} \\right)} + 0.52 \\sin{\\left(\\theta_{2} + \\theta_{3} \\right)} + 0.41\\\\0 & 0 & 0 & 1\\end{matrix}\\right]$"
      ],
      "text/plain": [
       "Matrix([\n",
       "[((sin(theta1)*cos(theta4) + sin(theta4)*sin(theta2 + theta3)*cos(theta1))*sin(theta5) - cos(theta1)*cos(theta5)*cos(theta2 + theta3))*sin(theta6) - (-sin(theta1)*sin(theta4) + sin(theta2 + theta3)*cos(theta1)*cos(theta4))*cos(theta6), ((sin(theta1)*cos(theta4) + sin(theta4)*sin(theta2 + theta3)*cos(theta1))*sin(theta5) - cos(theta1)*cos(theta5)*cos(theta2 + theta3))*cos(theta6) + (-sin(theta1)*sin(theta4) + sin(theta2 + theta3)*cos(theta1)*cos(theta4))*sin(theta6), (sin(theta1)*cos(theta4) + sin(theta4)*sin(theta2 + theta3)*cos(theta1))*cos(theta5) + sin(theta5)*cos(theta1)*cos(theta2 + theta3), (0.59*cos(theta2) + 0.52*cos(theta2 + theta3) + 0.2)*cos(theta1)],\n",
       "[ ((sin(theta1)*sin(theta4)*sin(theta2 + theta3) - cos(theta1)*cos(theta4))*sin(theta5) - sin(theta1)*cos(theta5)*cos(theta2 + theta3))*sin(theta6) - (sin(theta1)*sin(theta2 + theta3)*cos(theta4) + sin(theta4)*cos(theta1))*cos(theta6),  ((sin(theta1)*sin(theta4)*sin(theta2 + theta3) - cos(theta1)*cos(theta4))*sin(theta5) - sin(theta1)*cos(theta5)*cos(theta2 + theta3))*cos(theta6) + (sin(theta1)*sin(theta2 + theta3)*cos(theta4) + sin(theta4)*cos(theta1))*sin(theta6), (sin(theta1)*sin(theta4)*sin(theta2 + theta3) - cos(theta1)*cos(theta4))*cos(theta5) + sin(theta1)*sin(theta5)*cos(theta2 + theta3), (0.59*cos(theta2) + 0.52*cos(theta2 + theta3) + 0.2)*sin(theta1)],\n",
       "[                                                                                            -(sin(theta4)*sin(theta5)*cos(theta2 + theta3) + sin(theta2 + theta3)*cos(theta5))*sin(theta6) + cos(theta4)*cos(theta6)*cos(theta2 + theta3),                                                                                             -(sin(theta4)*sin(theta5)*cos(theta2 + theta3) + sin(theta2 + theta3)*cos(theta5))*cos(theta6) - sin(theta6)*cos(theta4)*cos(theta2 + theta3),                                                    -sin(theta4)*cos(theta5)*cos(theta2 + theta3) + sin(theta5)*sin(theta2 + theta3),              0.59*sin(theta2) + 0.52*sin(theta2 + theta3) + 0.41],\n",
       "[                                                                                                                                                                                                                                        0,                                                                                                                                                                                                                                         0,                                                                                                                                   0,                                                                1]])"
      ]
     },
     "execution_count": 5,
     "metadata": {},
     "output_type": "execute_result"
    }
   ],
   "source": [
    "T = robot.get_dh_matrix()\r\n",
    "T"
   ]
  },
  {
   "cell_type": "code",
   "execution_count": 3,
   "id": "quantitative-render",
   "metadata": {},
   "outputs": [
    {
     "name": "stderr",
     "output_type": "stream",
     "text": [
      "c:\\Users\\vase_\\Downloads\\robot-arm-asi3\\Simulation\\script.py:343: RuntimeWarning:\n",
      "\n",
      "invalid value encountered in sqrt\n",
      "\n",
      "c:\\Users\\vase_\\Downloads\\robot-arm-asi3\\Simulation\\script.py:344: RuntimeWarning:\n",
      "\n",
      "invalid value encountered in sqrt\n",
      "\n"
     ]
    }
   ],
   "source": [
    "combinations = np.array(np.meshgrid(range(-180,181,90), range(-180,181,90), range(-180,181,90))).T.reshape(-1,3)\r\n",
    "angles = []\r\n",
    "for R,P,Y in combinations:\r\n",
    "    angles.append((R,P,Y))\r\n",
    "    rotm = rt.rotation_matrix_from_euler_angles(sp.Matrix([[R*np.pi/180],[P*np.pi/180],[Y*np.pi/180]]),'ZYX')\r\n",
    "    posm = np.array([[1,0,0,1],[0,1,0,0.6],[0,0,1,0.4],[0,0,0,1]])\r\n",
    "    target = np.array((posm*rotm).evalf(),dtype=float)\r\n",
    "    if robot.IK(target):\r\n",
    "        if angles[0] != angles[-1]:\r\n",
    "            print(angles[0],angles[-1])\r\n",
    "        angles.clear()\r\n",
    "    else:\r\n",
    "        angles.append((R,P,Y))"
   ]
  },
  {
   "cell_type": "code",
   "execution_count": 6,
   "id": "attended-blink",
   "metadata": {},
   "outputs": [],
   "source": [
    "nx,ox,ax,px,ny,oy,ay,py,nz,oz,az,pz,d1,d2,m,r,p,y,a1 = sp.symbols('nx,ox,ax,px,ny,oy,ay,py,nz,oz,az,pz,d1,d2,m,r,p,y,a1')\r\n",
    "t_nx,t_ox,t_ax,t_px,t_ny,t_oy,t_ay,t_py,t_nz,t_oz,t_az,t_pz = T[:3,:4]"
   ]
  },
  {
   "cell_type": "code",
   "execution_count": 7,
   "id": "spatial-footwear",
   "metadata": {},
   "outputs": [],
   "source": [
    "Rtheta1 = sp.atan2(py,px)\r\n",
    "reztheta1 = Rtheta1.subs([(px,1),(py,0.6)])"
   ]
  },
  {
   "cell_type": "code",
   "execution_count": 8,
   "id": "stretch-petroleum",
   "metadata": {},
   "outputs": [],
   "source": [
    "r = (px-a1*sp.cos(reztheta1))**2 + (py-a1*sp.sin(reztheta1))**2 + (pz-m)**2"
   ]
  },
  {
   "cell_type": "code",
   "execution_count": 9,
   "id": "constant-hollow",
   "metadata": {},
   "outputs": [],
   "source": [
    "Rtheta3 = sp.acos(( r - d1**2-d2**2)/(2*d1*d2))\r\n",
    "Rtheta2 = sp.asin((pz-m)/(sp.sqrt(r))) - sp.atan2((d2*sp.sin(Rtheta3)),(d1+d2*sp.cos(Rtheta3)))"
   ]
  },
  {
   "cell_type": "code",
   "execution_count": 10,
   "id": "modern-ambassador",
   "metadata": {},
   "outputs": [],
   "source": [
    "Rtheta3 = -sp.acos(( r - d1**2-d2**2)/(2*d1*d2))\r\n",
    "Rtheta2 = sp.asin((pz-m)/(sp.sqrt(r))) - sp.atan2((d2*sp.sin(Rtheta3)),(d1+d2*sp.cos(Rtheta3)))"
   ]
  },
  {
   "cell_type": "code",
   "execution_count": 11,
   "id": "inappropriate-bibliography",
   "metadata": {},
   "outputs": [
    {
     "data": {
      "text/plain": [
       "(30.9637565320735, 26.9086995531489, -59.0983746029030)"
      ]
     },
     "execution_count": 11,
     "metadata": {},
     "output_type": "execute_result"
    }
   ],
   "source": [
    "reztheta3 = Rtheta3.subs([(px,1),(pz,0.4),(py,0.6),(d1,0.59),(d2,0.52),(a1,0.2),(m,0.41)])\r\n",
    "reztheta2 = Rtheta2.subs([(px,1),(pz,0.4),(py,0.6),(d1,0.59),(d2,0.52),(a1,0.2),(m,0.41)])\r\n",
    "sp.deg(reztheta1).evalf(),sp.deg(reztheta2).evalf(),sp.deg(reztheta3).evalf()"
   ]
  },
  {
   "cell_type": "code",
   "execution_count": 12,
   "id": "corporate-emperor",
   "metadata": {},
   "outputs": [
    {
     "data": {
      "text/latex": [
       "$\\displaystyle \\left[\\begin{matrix}0.514495755427527 & -0.456806872457694 & 0.725686984120894 & 0.622642768257135\\\\-0.857492925712544 & -0.274084123474616 & 0.435412190472537 & 0.373585660954281\\\\0 & -0.84628917902486 & -0.532723779707109 & 0.677016365447697\\\\0 & 0 & 0 & 1\\end{matrix}\\right]$"
      ],
      "text/plain": [
       "Matrix([\n",
       "[ 0.514495755427527, -0.456806872457694,  0.725686984120894, 0.622642768257135],\n",
       "[-0.857492925712544, -0.274084123474616,  0.435412190472537, 0.373585660954281],\n",
       "[                 0,  -0.84628917902486, -0.532723779707109, 0.677016365447697],\n",
       "[                 0,                  0,                  0,                 1]])"
      ]
     },
     "execution_count": 12,
     "metadata": {},
     "output_type": "execute_result"
    }
   ],
   "source": [
    "R03 = robot.get_dh_joint_to_joint(0,4)\r\n",
    "R03 = R03.subs([(theta1,reztheta1),(theta2,reztheta2),(theta3,reztheta3)])\r\n",
    "R03"
   ]
  },
  {
   "cell_type": "code",
   "execution_count": 13,
   "id": "immediate-reform",
   "metadata": {},
   "outputs": [
    {
     "data": {
      "text/latex": [
       "$\\displaystyle \\left[\\begin{matrix}0 & 0 & -1 & 0\\\\0 & 1 & 0 & 0\\\\1 & 0 & 0 & 0\\\\0 & 0 & 0 & 1\\end{matrix}\\right]$"
      ],
      "text/plain": [
       "Matrix([\n",
       "[0, 0, -1, 0],\n",
       "[0, 1,  0, 0],\n",
       "[1, 0,  0, 0],\n",
       "[0, 0,  0, 1]])"
      ]
     },
     "execution_count": 13,
     "metadata": {},
     "output_type": "execute_result"
    }
   ],
   "source": [
    "R06 = rt.rotation_matrix_from_euler_angles(sp.Matrix([[0*sp.pi/180],[-90*sp.pi/180],[0*sp.pi/180]]),'ZYX')\r\n",
    "R06"
   ]
  },
  {
   "cell_type": "code",
   "execution_count": 14,
   "id": "conservative-bookmark",
   "metadata": {},
   "outputs": [
    {
     "data": {
      "text/latex": [
       "$\\displaystyle \\left[\\begin{matrix}0 & -0.857492925712544 & -0.514495755427526 & 0\\\\-0.84628917902486 & -0.274084123474616 & 0.456806872457694 & 0.959773018152407\\\\-0.532723779707109 & 0.435412190472537 & -0.725686984120894 & -0.253844786521573\\\\0 & 0 & 0 & 1\\end{matrix}\\right]$"
      ],
      "text/plain": [
       "Matrix([\n",
       "[                 0, -0.857492925712544, -0.514495755427526,                  0],\n",
       "[ -0.84628917902486, -0.274084123474616,  0.456806872457694,  0.959773018152407],\n",
       "[-0.532723779707109,  0.435412190472537, -0.725686984120894, -0.253844786521573],\n",
       "[                 0,                  0,                  0,                  1]])"
      ]
     },
     "execution_count": 14,
     "metadata": {},
     "output_type": "execute_result"
    }
   ],
   "source": [
    "R36 = R03.inv()*R06\r\n",
    "R36"
   ]
  },
  {
   "cell_type": "code",
   "execution_count": 8,
   "id": "certain-purchase",
   "metadata": {},
   "outputs": [
    {
     "data": {
      "text/plain": [
       "70.0"
      ]
     },
     "execution_count": 8,
     "metadata": {},
     "output_type": "execute_result"
    }
   ],
   "source": [
    "(np.pi*7/18)*180/np.pi"
   ]
  },
  {
   "cell_type": "code",
   "execution_count": 15,
   "id": "exceptional-miracle",
   "metadata": {},
   "outputs": [
    {
     "data": {
      "text/latex": [
       "$\\displaystyle \\left[\\begin{matrix}\\sin{\\left(\\theta_{4} \\right)} \\cos{\\left(\\theta_{6} \\right)} + \\sin{\\left(\\theta_{5} \\right)} \\sin{\\left(\\theta_{6} \\right)} \\cos{\\left(\\theta_{4} \\right)} & - \\sin{\\left(\\theta_{4} \\right)} \\sin{\\left(\\theta_{6} \\right)} + \\sin{\\left(\\theta_{5} \\right)} \\cos{\\left(\\theta_{4} \\right)} \\cos{\\left(\\theta_{6} \\right)} & \\cos{\\left(\\theta_{4} \\right)} \\cos{\\left(\\theta_{5} \\right)}\\\\\\sin{\\left(\\theta_{4} \\right)} \\sin{\\left(\\theta_{5} \\right)} \\sin{\\left(\\theta_{6} \\right)} - \\cos{\\left(\\theta_{4} \\right)} \\cos{\\left(\\theta_{6} \\right)} & \\sin{\\left(\\theta_{4} \\right)} \\sin{\\left(\\theta_{5} \\right)} \\cos{\\left(\\theta_{6} \\right)} + \\sin{\\left(\\theta_{6} \\right)} \\cos{\\left(\\theta_{4} \\right)} & \\sin{\\left(\\theta_{4} \\right)} \\cos{\\left(\\theta_{5} \\right)}\\\\- \\sin{\\left(\\theta_{6} \\right)} \\cos{\\left(\\theta_{5} \\right)} & - \\cos{\\left(\\theta_{5} \\right)} \\cos{\\left(\\theta_{6} \\right)} & \\sin{\\left(\\theta_{5} \\right)}\\end{matrix}\\right]$"
      ],
      "text/plain": [
       "Matrix([\n",
       "[sin(theta4)*cos(theta6) + sin(theta5)*sin(theta6)*cos(theta4), -sin(theta4)*sin(theta6) + sin(theta5)*cos(theta4)*cos(theta6), cos(theta4)*cos(theta5)],\n",
       "[sin(theta4)*sin(theta5)*sin(theta6) - cos(theta4)*cos(theta6),  sin(theta4)*sin(theta5)*cos(theta6) + sin(theta6)*cos(theta4), sin(theta4)*cos(theta5)],\n",
       "[                                     -sin(theta6)*cos(theta5),                                       -cos(theta5)*cos(theta6),             sin(theta5)]])"
      ]
     },
     "execution_count": 15,
     "metadata": {},
     "output_type": "execute_result"
    }
   ],
   "source": [
    "robot.get_dh_joint_to_joint(4,8)[:3,:3]"
   ]
  },
  {
   "cell_type": "code",
   "execution_count": 16,
   "id": "acute-calendar",
   "metadata": {},
   "outputs": [],
   "source": [
    "t_nx,t_ox,t_ax,t_ny,t_oy,t_ay,t_nz,t_oz,t_az = robot.get_dh_joint_to_joint(4,8)[:3,:3]"
   ]
  },
  {
   "cell_type": "code",
   "execution_count": 30,
   "id": "center-picture",
   "metadata": {},
   "outputs": [
    {
     "data": {
      "text/plain": [
       "[(-acos(-ax/sqrt(1 - az**2)) + 2*pi,\n",
       "  pi - asin(az),\n",
       "  pi - asin(nz/sqrt(1 - az**2))),\n",
       " (-acos(-ax/sqrt(1 - az**2)) + 2*pi, pi - asin(az), asin(nz/sqrt(1 - az**2))),\n",
       " (-acos(ax/sqrt(1 - az**2)) + 2*pi, asin(az), asin(nz/sqrt(1 - az**2)) + pi),\n",
       " (-acos(ax/sqrt(1 - az**2)) + 2*pi, asin(az), -asin(nz/sqrt(1 - az**2))),\n",
       " (acos(-ax/sqrt(1 - az**2)), pi - asin(az), pi - asin(nz/sqrt(1 - az**2))),\n",
       " (acos(-ax/sqrt(1 - az**2)), pi - asin(az), asin(nz/sqrt(1 - az**2))),\n",
       " (acos(ax/sqrt(1 - az**2)), asin(az), asin(nz/sqrt(1 - az**2)) + pi),\n",
       " (acos(ax/sqrt(1 - az**2)), asin(az), -asin(nz/sqrt(1 - az**2)))]"
      ]
     },
     "execution_count": 30,
     "metadata": {},
     "output_type": "execute_result"
    }
   ],
   "source": [
    "eq1 =sp.Eq(t_nx,nx)\r\n",
    "eq2 =sp.Eq(t_ny,ny)\r\n",
    "eq3 =sp.Eq(t_nz,nz)\r\n",
    "eq4 =sp.Eq(t_ox,ox)\r\n",
    "eq5 =sp.Eq(t_oy,oy)\r\n",
    "eq6 =sp.Eq(t_oz,oz)\r\n",
    "eq7 =sp.Eq(t_ax,ax)\r\n",
    "eq8 =sp.Eq(t_ay,ay)\r\n",
    "eq9 =sp.Eq(t_az,az)\r\n",
    "res = sp.solve([eq1,eq2,eq3,eq4,eq5,eq6,eq7,eq8,eq9],(theta4,theta5,theta6))\r\n",
    "res"
   ]
  },
  {
   "cell_type": "code",
   "execution_count": null,
   "id": "nominated-integer",
   "metadata": {},
   "outputs": [],
   "source": [
    "a,b = sp.symbols('a,b')\r\n",
    "eq = a*sp.cos(theta6)+ b*sp.sin(theta6)\r\n",
    "eq"
   ]
  },
  {
   "cell_type": "code",
   "execution_count": null,
   "id": "applied-street",
   "metadata": {},
   "outputs": [],
   "source": [
    "rez = sp.solve(eq-nx,theta6)\r\n",
    "rez"
   ]
  },
  {
   "cell_type": "code",
   "execution_count": null,
   "id": "immune-liverpool",
   "metadata": {},
   "outputs": [],
   "source": [
    "reztheta5 =  sp.asin(R36[2,2])\r\n",
    "sp.deg(reztheta5).evalf()"
   ]
  },
  {
   "cell_type": "code",
   "execution_count": null,
   "id": "informed-vulnerability",
   "metadata": {},
   "outputs": [],
   "source": [
    "reztheta4 = sp.asin(R36[1,2]/sp.cos(reztheta5) )\r\n",
    "sp.deg(reztheta4).evalf()"
   ]
  }
 ],
 "metadata": {
  "interpreter": {
   "hash": "8fa5eceb4ddf265f34c9a358b08aa57dda3c8f1d116c2126bf5d64b06e1edfcd"
  },
  "kernelspec": {
   "display_name": "Python 3",
   "language": "python",
   "name": "python3"
  },
  "language_info": {
   "codemirror_mode": {
    "name": "ipython",
    "version": 3
   },
   "file_extension": ".py",
   "mimetype": "text/x-python",
   "name": "python",
   "nbconvert_exporter": "python",
   "pygments_lexer": "ipython3",
   "version": "3.8.5"
  }
 },
 "nbformat": 4,
 "nbformat_minor": 5
}
